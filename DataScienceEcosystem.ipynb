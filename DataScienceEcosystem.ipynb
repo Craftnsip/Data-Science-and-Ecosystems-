{
 "cells": [
  {
   "cell_type": "markdown",
   "id": "a4e0c4c8-4c82-4b21-a384-6aae3aaa44c7",
   "metadata": {
    "panel-layout": {
     "height": 60.3125,
     "visible": true,
     "width": 100
    }
   },
   "source": [
    "# Data Science and Ecosystems"
   ]
  },
  {
   "cell_type": "markdown",
   "id": "7113d5cc-b7e3-4e6c-9f81-8f06d63a7ea5",
   "metadata": {},
   "source": [
    "In this Notebook, Data Sciene and Ecosystems are summarized."
   ]
  },
  {
   "cell_type": "markdown",
   "id": "538bcd2a-577a-401a-9fca-5d80d02f62ba",
   "metadata": {},
   "source": [
    "Some of the most popular languages that Data Scientist use are :\n",
    "1. Python\n",
    "2. R\n",
    "3. SQL"
   ]
  },
  {
   "cell_type": "markdown",
   "id": "5f8ae1a6-dec6-4d77-bf8c-306ca436e1a2",
   "metadata": {},
   "source": [
    "Some of the commonly used libraries used by Data Scientists include:\n",
    "1. TensorFlow.\n",
    "2. NumPy\n",
    "3. SciPy\n"
   ]
  },
  {
   "cell_type": "markdown",
   "id": "2677c724-1f96-4e90-af07-eeb110524a1d",
   "metadata": {},
   "source": [
    "|Data Science Tools|\n",
    "|---|\n",
    "|SAS|\n",
    "|Apache Hadoop|\n",
    "|TensorFlow|"
   ]
  },
  {
   "cell_type": "markdown",
   "id": "ba22e27c-cbb8-4865-9a78-f552debd43bd",
   "metadata": {},
   "source": [
    "### Below are a few examples of evaluating arithmetic expressions in Python"
   ]
  },
  {
   "cell_type": "code",
   "execution_count": 7,
   "id": "387c46bb-9242-43e7-8548-2455506c0775",
   "metadata": {},
   "outputs": [
    {
     "data": {
      "text/plain": [
       "17"
      ]
     },
     "execution_count": 7,
     "metadata": {},
     "output_type": "execute_result"
    }
   ],
   "source": [
    "#This a simple arithmetic expression to mutiply then add integers\n",
    "(3*4)+5"
   ]
  },
  {
   "cell_type": "code",
   "execution_count": 8,
   "id": "4787c32b-3594-4f9a-8061-fcb70fedc6c4",
   "metadata": {},
   "outputs": [
    {
     "data": {
      "text/plain": [
       "3.3333333333333335"
      ]
     },
     "execution_count": 8,
     "metadata": {},
     "output_type": "execute_result"
    }
   ],
   "source": [
    "#  This will convert 200 minutes to hours by diving by 60\n",
    "200/60"
   ]
  },
  {
   "cell_type": "markdown",
   "id": "6b38060a-58ae-4377-b682-904d1367e101",
   "metadata": {},
   "source": [
    "__Objective__\n",
    "* List popular languages for Data Science\n",
    "* List Popular libaries for Data Science \n",
    "* List of well known Data Sciene Tools \n",
    "* How to Provide comments in the cell "
   ]
  },
  {
   "cell_type": "markdown",
   "id": "8216b2b3-072d-44f4-a879-7004e13ce1eb",
   "metadata": {},
   "source": [
    "## Author \n",
    "Jessica Alegria "
   ]
  }
 ],
 "metadata": {
  "kernelspec": {
   "display_name": "Python [conda env:base] *",
   "language": "python",
   "name": "conda-base-py"
  },
  "language_info": {
   "codemirror_mode": {
    "name": "ipython",
    "version": 3
   },
   "file_extension": ".py",
   "mimetype": "text/x-python",
   "name": "python",
   "nbconvert_exporter": "python",
   "pygments_lexer": "ipython3",
   "version": "3.12.7"
  },
  "panel-cell-order": [
   "a4e0c4c8-4c82-4b21-a384-6aae3aaa44c7"
  ]
 },
 "nbformat": 4,
 "nbformat_minor": 5
}
